{
 "cells": [
  {
   "cell_type": "code",
   "execution_count": 10,
   "metadata": {},
   "outputs": [],
   "source": [
    "from Bio import SeqIO\n",
    "import pandas as pd\n",
    "import os"
   ]
  },
  {
   "cell_type": "markdown",
   "metadata": {},
   "source": [
    "Calculate genome length"
   ]
  },
  {
   "cell_type": "code",
   "execution_count": null,
   "metadata": {},
   "outputs": [],
   "source": [
    "All_contig_length=[]\n",
    "File_list=[]  ####'Fast file list'\n",
    "for i in File_list:\n",
    "    with open(i, \"r\") as input_handle:\n",
    "        for record in SeqIO.parse(input_handle, \"fasta\"):\n",
    "            contig_length=len(record.seq)\n",
    "            All_contig_length.append(contig_length)\n",
    "print(len(All_contig_length))"
   ]
  },
  {
   "cell_type": "markdown",
   "metadata": {},
   "source": [
    "Calculate N50 and GC%"
   ]
  },
  {
   "cell_type": "code",
   "execution_count": null,
   "metadata": {},
   "outputs": [],
   "source": [
    "def calculate_n50(contig_lengths):\n",
    "    total_length = sum(contig_lengths)\n",
    "    half_total_length = total_length / 2\n",
    "    running_length = 0\n",
    "    \n",
    "    for length in sorted(contig_lengths, reverse=True):\n",
    "        running_length += length\n",
    "        if running_length >= half_total_length:\n",
    "            return length\n",
    "\n",
    "def calculate_gc_content(sequences):\n",
    "    total_length = 0\n",
    "    gc_count = 0\n",
    "    \n",
    "    for seq in sequences:\n",
    "        total_length += len(seq)\n",
    "        gc_count += seq.count('G') + seq.count('C')\n",
    "        \n",
    "    gc_content = (gc_count / total_length) * 100\n",
    "    return gc_content\n",
    "\n",
    "def analyze_fasta(input_fasta):\n",
    "    contig_lengths = []\n",
    "    sequences = []\n",
    "    \n",
    "    with open(input_fasta, \"r\") as input_handle:\n",
    "        for record in SeqIO.parse(input_handle, \"fasta\"):\n",
    "            contig_lengths.append(len(record.seq))\n",
    "            sequences.append(record.seq)\n",
    "    \n",
    "    n50 = calculate_n50(contig_lengths)\n",
    "    gc_content = calculate_gc_content(sequences)\n",
    "    \n",
    "    return n50, gc_content\n",
    "\n",
    "input_fasta = \"input.fasta\"  \n",
    "n50, gc_content = analyze_fasta(input_fasta)\n",
    "\n",
    "print(f\"N50: {n50} bp\")\n",
    "print(f\"GC Content: {gc_content:.2f}%\")\n"
   ]
  }
 ],
 "metadata": {
  "kernelspec": {
   "display_name": "jia",
   "language": "python",
   "name": "python3"
  },
  "language_info": {
   "codemirror_mode": {
    "name": "ipython",
    "version": 3
   },
   "file_extension": ".py",
   "mimetype": "text/x-python",
   "name": "python",
   "nbconvert_exporter": "python",
   "pygments_lexer": "ipython3",
   "version": "3.12.3"
  }
 },
 "nbformat": 4,
 "nbformat_minor": 2
}
